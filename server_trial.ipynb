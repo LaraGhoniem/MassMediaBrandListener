{
 "cells": [
  {
   "cell_type": "code",
   "execution_count": 1,
   "metadata": {},
   "outputs": [],
   "source": [
    "from modules.database_module.database import Database\n",
    "from bson.objectid import ObjectId\n",
    "from classes.user import User\n",
    "from classes.listener import ObserverListener\n",
    "from classes.engine import Engine"
   ]
  },
  {
   "cell_type": "code",
   "execution_count": 2,
   "metadata": {},
   "outputs": [
    {
     "name": "stdout",
     "output_type": "stream",
     "text": [
      "Twitter\n",
      "anghami\n",
      "News\n",
      "Twitter\n",
      "أنغامى\n",
      "News\n",
      "Twitter\n",
      "Uber\n",
      "News\n",
      "Twitter\n",
      "اوبر\n",
      "News\n",
      "Twitter\n",
      "Egypt\n",
      "News\n",
      "Twitter\n",
      "Masr\n",
      "News\n",
      "Twitter\n",
      "مصر\n",
      "News\n"
     ]
    }
   ],
   "source": [
    "#initialize database connection\n",
    "db = Database()\n",
    "\n",
    "#create Engine\n",
    "engine = Engine()\n",
    "\n",
    "# get all listeners from database\n",
    "listeners = [data for data in db.find(\"listeners\", {})]\n",
    "# get all keywords from keywords collection using listeners ids\n",
    "keywords = [[data[\"keyword\"] for data in db.find(\"keywords\", {\"listener_id\":ObjectId(listener[\"_id\"])})] for listener in listeners]\n",
    "# get categories from categories collection using listeners ids\n",
    "categories = [[data for data in db.find(\"Category\", {\"_id\":ObjectId(listener[\"category_id\"])})] for listener in listeners]\n",
    "# get all users from users collection using company ids\n",
    "users = [[User(data[\"_id\"],data[\"name\"],data[\"email\"]) for data in db.find(\"users\", {\"_id\":ObjectId(listener[\"user_id\"])})] for listener in listeners]\n",
    "\n",
    "#data[\"listener_id\"],data[\"name\"], data[\"keywords\"], data[\"category\"], user\n",
    "listeners = [ObserverListener(listener[\"_id\"],listener[\"listener_name\"],keywords[i],categories[i][0][\"_id\"],users[i][0]) for i,listener in enumerate(listeners)]\n",
    "\n",
    "for listener in listeners:\n",
    "    engine.addListener(listener)\n",
    "\n",
    "engine.run()\n",
    "\n",
    "# [listener_id, keyword, source, text, sentiment, spam, summary, created_at, link]\n",
    "# for listener in engine.listeners:\n",
    "#     db.insert(\"results\", {\"listener_id\":ObjectId(listener.id), \"result\":json.dumps(listener.result, ensure_ascii = False), \"created_at\":datetime.datetime.now()})\n"
   ]
  },
  {
   "cell_type": "code",
   "execution_count": 3,
   "metadata": {},
   "outputs": [
    {
     "data": {
      "text/plain": [
       "<pymongo.results.DeleteResult at 0x23084a5fb50>"
      ]
     },
     "execution_count": 3,
     "metadata": {},
     "output_type": "execute_result"
    }
   ],
   "source": [
    "# import itertools\n",
    "# for listener in engine.listeners:\n",
    "#     listener = list(itertools.chain(*listener.result))\n",
    "#     db.insertAll(\"results\", listener)\n",
    "\n",
    "# delete all items\n",
    "# db = Database()\n",
    "# db.deleteAll(\"results\", {})"
   ]
  }
 ],
 "metadata": {
  "kernelspec": {
   "display_name": "Python 3",
   "language": "python",
   "name": "python3"
  },
  "language_info": {
   "codemirror_mode": {
    "name": "ipython",
    "version": 3
   },
   "file_extension": ".py",
   "mimetype": "text/x-python",
   "name": "python",
   "nbconvert_exporter": "python",
   "pygments_lexer": "ipython3",
   "version": "3.10.11"
  },
  "orig_nbformat": 4
 },
 "nbformat": 4,
 "nbformat_minor": 2
}
