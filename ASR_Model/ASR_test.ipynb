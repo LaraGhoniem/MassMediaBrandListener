{
 "cells": [
  {
   "cell_type": "code",
   "execution_count": 1,
   "metadata": {},
   "outputs": [
    {
     "name": "stdout",
     "output_type": "stream",
     "text": [
      "c:\\Users\\Moham\\OneDrive\\Desktop\\GradTest#2\\klaam\n"
     ]
    },
    {
     "name": "stderr",
     "output_type": "stream",
     "text": [
      "Cloning into 'klaam'...\n",
      "Updating files:  88% (155/175)\n",
      "Updating files:  89% (156/175)\n",
      "Updating files:  90% (158/175)\n",
      "Updating files:  91% (160/175)\n",
      "Updating files:  92% (161/175)\n",
      "Updating files:  93% (163/175)\n",
      "Updating files:  94% (165/175)\n",
      "Updating files:  95% (167/175)\n",
      "Updating files:  96% (168/175)\n",
      "Updating files:  97% (170/175)\n",
      "Updating files:  98% (172/175)\n",
      "Updating files:  99% (174/175)\n",
      "Updating files: 100% (175/175)\n",
      "Updating files: 100% (175/175), done.\n"
     ]
    }
   ],
   "source": [
    "!git clone https://github.com/ARBML/klaam\n",
    "%cd klaam"
   ]
  },
  {
   "cell_type": "code",
   "execution_count": 2,
   "metadata": {},
   "outputs": [],
   "source": [
    "%%capture\n",
    "!pip install -r requirements.txt"
   ]
  },
  {
   "cell_type": "code",
   "execution_count": 13,
   "metadata": {},
   "outputs": [
    {
     "ename": "SyntaxError",
     "evalue": "(unicode error) 'unicodeescape' codec can't decode bytes in position 2-3: truncated \\UXXXXXXXX escape (3673822936.py, line 2)",
     "output_type": "error",
     "traceback": [
      "\u001b[1;36m  Cell \u001b[1;32mIn [13], line 2\u001b[1;36m\u001b[0m\n\u001b[1;33m    Audio(filename='C:\\Users\\Moham\\OneDrive\\Desktop\\GradTest#2\\demo.wav', autoplay=True,rate=0.1)\u001b[0m\n\u001b[1;37m                                                                        ^\u001b[0m\n\u001b[1;31mSyntaxError\u001b[0m\u001b[1;31m:\u001b[0m (unicode error) 'unicodeescape' codec can't decode bytes in position 2-3: truncated \\UXXXXXXXX escape\n"
     ]
    }
   ],
   "source": [
    "from IPython.display import Audio \n",
    "Audio(filename='../samples/demo.wav', autoplay=True,rate=0.1)"
   ]
  },
  {
   "cell_type": "code",
   "execution_count": 17,
   "metadata": {},
   "outputs": [
    {
     "data": {
      "text/plain": [
       "'EGY'"
      ]
     },
     "execution_count": 17,
     "metadata": {},
     "output_type": "execute_result"
    }
   ],
   "source": [
    "from klaam import SpeechClassification\n",
    "model = SpeechClassification()\n",
    "model.classify('samples/demo.wav')"
   ]
  },
  {
   "cell_type": "code",
   "execution_count": 18,
   "metadata": {},
   "outputs": [
    {
     "name": "stderr",
     "output_type": "stream",
     "text": [
      "Downloading: 100%|██████████| 1.56k/1.56k [00:00<00:00, 1.56MB/s]\n",
      "C:\\Users\\Moham\\AppData\\Local\\Packages\\PythonSoftwareFoundation.Python.3.10_qbz5n2kfra8p0\\LocalCache\\local-packages\\Python310\\site-packages\\huggingface_hub\\file_download.py:123: UserWarning: `huggingface_hub` cache-system uses symlinks by default to efficiently store duplicated files but your machine does not support them in C:\\Users\\Moham\\.cache\\huggingface\\hub. Caching files will still work but in a degraded version that might require more space on your disk. This warning can be disabled by setting the `HF_HUB_DISABLE_SYMLINKS_WARNING` environment variable. For more details, see https://huggingface.co/docs/huggingface_hub/how-to-cache#limitations.\n",
      "To support symlinks on Windows, you either need to activate Developer Mode or to run Python as an administrator. In order to see activate developer mode, see this article: https://docs.microsoft.com/en-us/windows/apps/get-started/enable-your-device-for-development\n",
      "  warnings.warn(message)\n",
      "C:\\Users\\Moham\\AppData\\Local\\Packages\\PythonSoftwareFoundation.Python.3.10_qbz5n2kfra8p0\\LocalCache\\local-packages\\Python310\\site-packages\\transformers\\configuration_utils.py:369: UserWarning: Passing `gradient_checkpointing` to a config initialization is deprecated and will be removed in v5 Transformers. Using `model.gradient_checkpointing_enable()` instead, or if you are using the `Trainer` API, pass `gradient_checkpointing=True` in your `TrainingArguments`.\n",
      "  warnings.warn(\n",
      "Downloading: 100%|██████████| 1.26G/1.26G [06:09<00:00, 3.41MB/s]\n",
      "Downloading: 100%|██████████| 158/158 [00:00<00:00, 159kB/s]\n",
      "Downloading: 100%|██████████| 138/138 [00:00<00:00, 138kB/s]\n",
      "Downloading: 100%|██████████| 442/442 [00:00<00:00, 443kB/s]\n",
      "Downloading: 100%|██████████| 85.0/85.0 [00:00<00:00, 85.2kB/s]\n",
      "Special tokens have been added in the vocabulary, make sure the associated word embeddings are fine-tuned or trained.\n"
     ]
    },
    {
     "data": {
      "text/plain": [
       "'أكل بتاعهو بيبقى مميز قوي عرفة إزاي ف والل ه إحنا كلنا كل يوم بنعمل حيلة عشان نسهب الشنطة بتاعته ناخد الأكن ورجع أك'"
      ]
     },
     "execution_count": 18,
     "metadata": {},
     "output_type": "execute_result"
    },
    {
     "ename": "",
     "evalue": "",
     "output_type": "error",
     "traceback": [
      "\u001b[1;31mThe Kernel crashed while executing code in the the current cell or a previous cell. Please review the code in the cell(s) to identify a possible cause of the failure. Click <a href='https://aka.ms/vscodeJupyterKernelCrash'>here</a> for more info. View Jupyter <a href='command:jupyter.viewOutput'>log</a> for further details."
     ]
    }
   ],
   "source": [
    "from klaam import SpeechRecognition\n",
    "model = SpeechRecognition()\n",
    "model.transcribe('samples/demo.wav')"
   ]
  },
  {
   "cell_type": "code",
   "execution_count": null,
   "metadata": {},
   "outputs": [],
   "source": []
  }
 ],
 "metadata": {
  "kernelspec": {
   "display_name": "Python 3.10.8 64-bit (microsoft store)",
   "language": "python",
   "name": "python3"
  },
  "language_info": {
   "codemirror_mode": {
    "name": "ipython",
    "version": 3
   },
   "file_extension": ".py",
   "mimetype": "text/x-python",
   "name": "python",
   "nbconvert_exporter": "python",
   "pygments_lexer": "ipython3",
   "version": "3.10.8"
  },
  "orig_nbformat": 4,
  "vscode": {
   "interpreter": {
    "hash": "f324bbd7cdb8d90cc3e0ade5a166b9b8d5ce30d1926a40871048070cc4d10367"
   }
  }
 },
 "nbformat": 4,
 "nbformat_minor": 2
}
