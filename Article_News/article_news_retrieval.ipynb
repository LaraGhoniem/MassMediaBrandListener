{
 "cells": [
  {
   "cell_type": "code",
   "execution_count": 1,
   "metadata": {},
   "outputs": [],
   "source": [
    "from newsfeed.news.apis.filters import * \n",
    "from newsfeed.news.apis.query import * "
   ]
  },
  {
   "cell_type": "code",
   "execution_count": 6,
   "metadata": {},
   "outputs": [
    {
     "name": "stdout",
     "output_type": "stream",
     "text": [
      "[+] Downloading...\n"
     ]
    },
    {
     "name": "stderr",
     "output_type": "stream",
     "text": [
      "  0%|          | 0/2 [00:01<?, ?it/s]\n"
     ]
    },
    {
     "name": "stdout",
     "output_type": "stream",
     "text": [
      "[+] Downloading...\n"
     ]
    },
    {
     "name": "stderr",
     "output_type": "stream",
     "text": [
      "100%|██████████| 1/1 [00:01<00:00,  1.78s/it]\n"
     ]
    }
   ],
   "source": [
    "f = Art_Filter(\n",
    "    keyword = [\"Mohammed Salah\",\"Salah\"],\n",
    "    start_date = \"20211231000000\",\n",
    "    end_date = \"20211231010000\",\n",
    "    country = [\"EG\",\"US\"],\n",
    ")\n",
    "\n",
    "articles_30 = article_search(query_filter = f, max_recursion_depth = 100, time_range = 30)\n",
    "articles_60 = article_search(query_filter = f, max_recursion_depth = 100, time_range = 60)"
   ]
  },
  {
   "cell_type": "code",
   "execution_count": 7,
   "metadata": {},
   "outputs": [
    {
     "data": {
      "text/html": [
       "<div>\n",
       "<style scoped>\n",
       "    .dataframe tbody tr th:only-of-type {\n",
       "        vertical-align: middle;\n",
       "    }\n",
       "\n",
       "    .dataframe tbody tr th {\n",
       "        vertical-align: top;\n",
       "    }\n",
       "\n",
       "    .dataframe thead th {\n",
       "        text-align: right;\n",
       "    }\n",
       "</style>\n",
       "<table border=\"1\" class=\"dataframe\">\n",
       "  <thead>\n",
       "    <tr style=\"text-align: right;\">\n",
       "      <th></th>\n",
       "      <th>url</th>\n",
       "      <th>url_mobile</th>\n",
       "      <th>title</th>\n",
       "      <th>seendate</th>\n",
       "      <th>socialimage</th>\n",
       "      <th>domain</th>\n",
       "      <th>language</th>\n",
       "      <th>sourcecountry</th>\n",
       "      <th>timeadded</th>\n",
       "    </tr>\n",
       "  </thead>\n",
       "  <tbody>\n",
       "    <tr>\n",
       "      <th>0</th>\n",
       "      <td>https://gate.ahram.org.eg/News/3234215.aspx</td>\n",
       "      <td></td>\n",
       "      <td>حمدي أبو جليل :  تديُن محمد صلاح لم يعوقه في ا...</td>\n",
       "      <td>20211231T000000Z</td>\n",
       "      <td>https://gate.ahram.org.eg/Media/News/2021/12/2...</td>\n",
       "      <td>gate.ahram.org.eg</td>\n",
       "      <td>Arabic</td>\n",
       "      <td>Egypt</td>\n",
       "      <td>20211231010000</td>\n",
       "    </tr>\n",
       "    <tr>\n",
       "      <th>1</th>\n",
       "      <td>http://el-zamalek.com/%D8%B3%D9%8A%D8%AF%D8%A7...</td>\n",
       "      <td></td>\n",
       "      <td>سيدات تنس الطاولة يتأهلن لـ  الدورة السداسية  ...</td>\n",
       "      <td>20211231T000000Z</td>\n",
       "      <td>http://el-zamalek.com/wp-content/uploads/2021/...</td>\n",
       "      <td>el-zamalek.com</td>\n",
       "      <td>Arabic</td>\n",
       "      <td>Egypt</td>\n",
       "      <td>20211231010000</td>\n",
       "    </tr>\n",
       "    <tr>\n",
       "      <th>2</th>\n",
       "      <td>https://liverpooloffside.sbnation.com/liverpoo...</td>\n",
       "      <td>https://liverpooloffside.sbnation.com/platform...</td>\n",
       "      <td>Tuchel Says It  Would Be Stupid to Think  Chel...</td>\n",
       "      <td>20211231T001500Z</td>\n",
       "      <td>https://cdn.vox-cdn.com/thumbor/7epXt2S5EtUwl8...</td>\n",
       "      <td>liverpooloffside.sbnation.com</td>\n",
       "      <td>English</td>\n",
       "      <td>United States</td>\n",
       "      <td>20211231010000</td>\n",
       "    </tr>\n",
       "    <tr>\n",
       "      <th>3</th>\n",
       "      <td>https://www.businessinsider.com/members-khasho...</td>\n",
       "      <td>https://www.businessinsider.com/members-khasho...</td>\n",
       "      <td>Members of Khashoggi Hit Squad Living in  Seve...</td>\n",
       "      <td>20211231T000000Z</td>\n",
       "      <td>https://i.insider.com/61ce29d0cc94ab0019d316eb...</td>\n",
       "      <td>businessinsider.com</td>\n",
       "      <td>English</td>\n",
       "      <td>United States</td>\n",
       "      <td>20211231010000</td>\n",
       "    </tr>\n",
       "    <tr>\n",
       "      <th>4</th>\n",
       "      <td>https://www.msn.com/en-us/news/other/texans-ve...</td>\n",
       "      <td></td>\n",
       "      <td>Texan Veteran WR on COVID List : NFL Tracker</td>\n",
       "      <td>20211231T000000Z</td>\n",
       "      <td></td>\n",
       "      <td>msn.com</td>\n",
       "      <td>English</td>\n",
       "      <td>United States</td>\n",
       "      <td>20211231010000</td>\n",
       "    </tr>\n",
       "  </tbody>\n",
       "</table>\n",
       "</div>"
      ],
      "text/plain": [
       "                                                 url  \\\n",
       "0        https://gate.ahram.org.eg/News/3234215.aspx   \n",
       "1  http://el-zamalek.com/%D8%B3%D9%8A%D8%AF%D8%A7...   \n",
       "2  https://liverpooloffside.sbnation.com/liverpoo...   \n",
       "3  https://www.businessinsider.com/members-khasho...   \n",
       "4  https://www.msn.com/en-us/news/other/texans-ve...   \n",
       "\n",
       "                                          url_mobile  \\\n",
       "0                                                      \n",
       "1                                                      \n",
       "2  https://liverpooloffside.sbnation.com/platform...   \n",
       "3  https://www.businessinsider.com/members-khasho...   \n",
       "4                                                      \n",
       "\n",
       "                                               title          seendate  \\\n",
       "0  حمدي أبو جليل :  تديُن محمد صلاح لم يعوقه في ا...  20211231T000000Z   \n",
       "1  سيدات تنس الطاولة يتأهلن لـ  الدورة السداسية  ...  20211231T000000Z   \n",
       "2  Tuchel Says It  Would Be Stupid to Think  Chel...  20211231T001500Z   \n",
       "3  Members of Khashoggi Hit Squad Living in  Seve...  20211231T000000Z   \n",
       "4       Texan Veteran WR on COVID List : NFL Tracker  20211231T000000Z   \n",
       "\n",
       "                                         socialimage  \\\n",
       "0  https://gate.ahram.org.eg/Media/News/2021/12/2...   \n",
       "1  http://el-zamalek.com/wp-content/uploads/2021/...   \n",
       "2  https://cdn.vox-cdn.com/thumbor/7epXt2S5EtUwl8...   \n",
       "3  https://i.insider.com/61ce29d0cc94ab0019d316eb...   \n",
       "4                                                      \n",
       "\n",
       "                          domain language  sourcecountry       timeadded  \n",
       "0              gate.ahram.org.eg   Arabic          Egypt  20211231010000  \n",
       "1                 el-zamalek.com   Arabic          Egypt  20211231010000  \n",
       "2  liverpooloffside.sbnation.com  English  United States  20211231010000  \n",
       "3            businessinsider.com  English  United States  20211231010000  \n",
       "4                        msn.com  English  United States  20211231010000  "
      ]
     },
     "metadata": {},
     "output_type": "display_data"
    },
    {
     "name": "stdout",
     "output_type": "stream",
     "text": [
      "None\n"
     ]
    }
   ],
   "source": [
    "print(display(articles_60))"
   ]
  },
  {
   "cell_type": "code",
   "execution_count": 8,
   "metadata": {},
   "outputs": [
    {
     "name": "stdout",
     "output_type": "stream",
     "text": [
      "[+] Checking if page exists...\n",
      "full text: \n",
      " واصل فريق سيدات تنس الطاولة بنادى الزمالك نتائجه المميزة بالدور الثاني للدورة المجمعة للدورى الممتاز والتي تقام على ملاعب نادى الزمالك.. حيث فاز الفريق اليوم الخميس على: ستاد المنصورة وهيئة الشبان المسلمين والإسماعيلى بثلاثة أشواط نظيفة فى جميع المباريات.\n",
      "\n",
      "وتأهل الفريق للمشاركة بالدورة السداسية المجمعة التي ستحسم لقب بطولة الدورى هذا الموسم.\n",
      "\n",
      "وتضم قائمة الفريق كلا من: فرح عبد العزيز وهند فتحى ورؤى صلاح وجنى سعد.\n",
      "\n",
      "كان الفريق قد تصدر الدور الأول للدورة المجمعة.\n",
      "\n",
      "ويقود الفريق:\n",
      "\n",
      "أحمد حلمى مديرا لجهاز تنس الطاولة\n",
      "\n",
      "أمجد سليمان مدربا للفريق\n",
      "\n",
      "مصطفى محمود مديرا إداريا.\n"
     ]
    },
    {
     "ename": "",
     "evalue": "",
     "output_type": "error",
     "traceback": [
      "\u001b[1;31mThe Kernel crashed while executing code in the the current cell or a previous cell. Please review the code in the cell(s) to identify a possible cause of the failure. Click <a href='https://aka.ms/vscodeJupyterKernelCrash'>here</a> for more info. View Jupyter <a href='command:jupyter.viewOutput'>log</a> for further details."
     ]
    }
   ],
   "source": [
    "from newsfeed.utils import fulltext as ft\n",
    "art = ft.download(url=articles_60[\"url\"][1])\n",
    "print(\"full text: \\n {}\".format(art.text))"
   ]
  }
 ],
 "metadata": {
  "kernelspec": {
   "display_name": "Python 3.10.8 64-bit (microsoft store)",
   "language": "python",
   "name": "python3"
  },
  "language_info": {
   "codemirror_mode": {
    "name": "ipython",
    "version": 3
   },
   "file_extension": ".py",
   "mimetype": "text/x-python",
   "name": "python",
   "nbconvert_exporter": "python",
   "pygments_lexer": "ipython3",
   "version": "3.10.8"
  },
  "orig_nbformat": 4,
  "vscode": {
   "interpreter": {
    "hash": "f324bbd7cdb8d90cc3e0ade5a166b9b8d5ce30d1926a40871048070cc4d10367"
   }
  }
 },
 "nbformat": 4,
 "nbformat_minor": 2
}
